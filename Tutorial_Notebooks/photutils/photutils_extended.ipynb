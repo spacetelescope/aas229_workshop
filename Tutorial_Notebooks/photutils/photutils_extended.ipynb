{
 "cells": [
  {
   "cell_type": "markdown",
   "metadata": {},
   "source": [
    "## This notebook requires Photutils 0.3"
   ]
  },
  {
   "cell_type": "code",
   "execution_count": null,
   "metadata": {
    "collapsed": false
   },
   "outputs": [],
   "source": [
    "import photutils\n",
    "photutils.__version__"
   ]
  },
  {
   "cell_type": "markdown",
   "metadata": {},
   "source": [
    "## To update Photutils to 0.3:\n",
    "\n",
    "`$ source activate aas229-workshop`\n",
    "\n",
    "`$ conda update photutils [-c http://ssb.stsci.edu/astroconda]`\n",
    "\n",
    "`$ conda list photutils`"
   ]
  },
  {
   "cell_type": "markdown",
   "metadata": {
    "collapsed": false,
    "slideshow": {
     "slide_type": "slide"
    }
   },
   "source": [
    "<img src=\"data/photutils_banner.svg\">"
   ]
  },
  {
   "cell_type": "markdown",
   "metadata": {
    "slideshow": {
     "slide_type": "slide"
    }
   },
   "source": [
    "## Photutils\n",
    "\n",
    "- Code: https://github.com/astropy/photutils\n",
    "- Documentation: http://photutils.readthedocs.org/en/stable/\n",
    "- Issue Tracker:  https://github.com/astropy/photutils/issues"
   ]
  },
  {
   "cell_type": "markdown",
   "metadata": {
    "slideshow": {
     "slide_type": "slide"
    }
   },
   "source": [
    "## Photutils Overview\n",
    "\n",
    "- Background and background noise estimation\n",
    "- Source Detection and Extraction\n",
    "  - DAOFIND and IRAF's starfind\n",
    "  - **Image segmentation**\n",
    "  - local peak finder\n",
    "- **Aperture photometry**\n",
    "- PSF photometry\n",
    "- PSF matching\n",
    "- Centroids\n",
    "- Morphological properties\n",
    "\n"
   ]
  },
  {
   "cell_type": "markdown",
   "metadata": {},
   "source": [
    "## Preliminaries"
   ]
  },
  {
   "cell_type": "code",
   "execution_count": null,
   "metadata": {
    "collapsed": true,
    "slideshow": {
     "slide_type": "slide"
    }
   },
   "outputs": [],
   "source": [
    "# initial imports\n",
    "import numpy as np\n",
    "import matplotlib.pyplot as plt\n",
    "\n",
    "# change some default plotting parameters\n",
    "import matplotlib as mpl\n",
    "mpl.rcParams['image.origin'] = 'lower'\n",
    "mpl.rcParams['image.interpolation'] = 'nearest'\n",
    "mpl.rcParams['image.cmap'] = 'viridis'\n",
    "\n",
    "# Run the %matplotlib magic command to enable inline plotting\n",
    "# in the current notebook.  Choose one of these:\n",
    "%matplotlib inline\n",
    "# %matplotlib notebook"
   ]
  },
  {
   "cell_type": "markdown",
   "metadata": {},
   "source": [
    "### Load the data"
   ]
  },
  {
   "cell_type": "markdown",
   "metadata": {
    "slideshow": {
     "slide_type": "-"
    }
   },
   "source": [
    "We'll start by reading data and error arrays from FITS files.  These are cutouts from the Extreme-Deep Field (XDF) taken with WFC3/IR in the F160W filter."
   ]
  },
  {
   "cell_type": "code",
   "execution_count": null,
   "metadata": {
    "collapsed": false,
    "slideshow": {
     "slide_type": "-"
    }
   },
   "outputs": [],
   "source": [
    "from astropy.io import fits\n",
    "sci_fn = 'data/xdf_hst_wfc3ir_60mas_f160w_sci.fits'\n",
    "rms_fn = 'data/xdf_hst_wfc3ir_60mas_f160w_rms.fits'\n",
    "sci_hdulist = fits.open(sci_fn)\n",
    "rms_hdulist = fits.open(rms_fn)\n",
    "\n",
    "sci_hdulist[0].header['BUNIT'] = 'electron/s'"
   ]
  },
  {
   "cell_type": "markdown",
   "metadata": {},
   "source": [
    "Print some info about the data."
   ]
  },
  {
   "cell_type": "code",
   "execution_count": null,
   "metadata": {
    "collapsed": false,
    "scrolled": true
   },
   "outputs": [],
   "source": [
    "sci_hdulist.info()"
   ]
  },
  {
   "cell_type": "markdown",
   "metadata": {},
   "source": [
    "Define the data and error arrays."
   ]
  },
  {
   "cell_type": "code",
   "execution_count": null,
   "metadata": {
    "collapsed": false,
    "slideshow": {
     "slide_type": "fragment"
    }
   },
   "outputs": [],
   "source": [
    "data = sci_hdulist[0].data.astype(np.float)\n",
    "error = rms_hdulist[0].data.astype(np.float)"
   ]
  },
  {
   "cell_type": "markdown",
   "metadata": {},
   "source": [
    "Extract the data header and create a WCS object."
   ]
  },
  {
   "cell_type": "code",
   "execution_count": null,
   "metadata": {
    "collapsed": false,
    "slideshow": {
     "slide_type": "fragment"
    }
   },
   "outputs": [],
   "source": [
    "from astropy.wcs import WCS\n",
    "\n",
    "hdr = sci_hdulist[0].header\n",
    "wcs = WCS(hdr)"
   ]
  },
  {
   "cell_type": "markdown",
   "metadata": {},
   "source": [
    "Display the data."
   ]
  },
  {
   "cell_type": "code",
   "execution_count": null,
   "metadata": {
    "collapsed": false,
    "slideshow": {
     "slide_type": "fragment"
    }
   },
   "outputs": [],
   "source": [
    "from astropy.visualization import scale_image\n",
    "plt.imshow(scale_image(data, scale='sqrt', percent=99.5))"
   ]
  },
  {
   "cell_type": "markdown",
   "metadata": {
    "slideshow": {
     "slide_type": "slide"
    }
   },
   "source": [
    "## Part 1:  Aperture Photometry"
   ]
  },
  {
   "cell_type": "markdown",
   "metadata": {},
   "source": [
    "Photutils provides the following aperture classes, defined in pixel coordinates:\n",
    "\n",
    "* `CircularAperture`\n",
    "* `CircularAnnulus`\n",
    "\n",
    "* `EllipticalAperture`\n",
    "* `EllipticalAnnulus`\n",
    "\n",
    "* `RectangularAperture`\n",
    "* `RectangularAnnulus`\n",
    "\n",
    "Along with variants of each, defined in celestial coordinates:\n",
    "\n",
    "* `SkyCircularAperture`\n",
    "* `SkyCircularAnnulus`\n",
    "\n",
    "* `SkyEllipticalAperture`\n",
    "* `SkyEllipticalAnnulus`\n",
    "\n",
    "* `SkyRectangularAperture`\n",
    "* `SkyRectangularAnnulus`"
   ]
  },
  {
   "cell_type": "markdown",
   "metadata": {
    "slideshow": {
     "slide_type": "slide"
    }
   },
   "source": [
    "## Methods for handling aperture/pixel intersection"
   ]
  },
  {
   "cell_type": "markdown",
   "metadata": {},
   "source": [
    "The are three methods for handling the aperture overlap with the pixel grid."
   ]
  },
  {
   "cell_type": "markdown",
   "metadata": {},
   "source": [
    "<img src=\"data/photutils_aperture_methods.svg\">"
   ]
  },
  {
   "cell_type": "markdown",
   "metadata": {},
   "source": [
    "### Perform circular-aperture photometry on some sources in the XDF"
   ]
  },
  {
   "cell_type": "markdown",
   "metadata": {},
   "source": [
    "First, we define a circular aperture at a given position and radius."
   ]
  },
  {
   "cell_type": "code",
   "execution_count": null,
   "metadata": {
    "collapsed": false,
    "slideshow": {
     "slide_type": "fragment"
    }
   },
   "outputs": [],
   "source": [
    "from photutils import CircularAperture\n",
    "\n",
    "position = (90.73, 59.43)\n",
    "radius = 5.\n",
    "aperture = CircularAperture(position, r=radius)"
   ]
  },
  {
   "cell_type": "markdown",
   "metadata": {},
   "source": [
    "Now perform photometry on the data using the `aperture_photometry()` function.  The default aperture method is 'exact'."
   ]
  },
  {
   "cell_type": "code",
   "execution_count": null,
   "metadata": {
    "collapsed": false,
    "slideshow": {
     "slide_type": "fragment"
    }
   },
   "outputs": [],
   "source": [
    "from photutils import aperture_photometry\n",
    "\n",
    "phot = aperture_photometry(data, aperture)\n",
    "phot"
   ]
  },
  {
   "cell_type": "markdown",
   "metadata": {},
   "source": [
    "The output is an Astropy `QTable` (Quantity Table).  The table also contains metadata."
   ]
  },
  {
   "cell_type": "code",
   "execution_count": null,
   "metadata": {
    "collapsed": false
   },
   "outputs": [],
   "source": [
    "phot.meta"
   ]
  },
  {
   "cell_type": "markdown",
   "metadata": {},
   "source": [
    "Aperture photometry using the 'center' method:"
   ]
  },
  {
   "cell_type": "code",
   "execution_count": null,
   "metadata": {
    "collapsed": false,
    "slideshow": {
     "slide_type": "fragment"
    }
   },
   "outputs": [],
   "source": [
    "phot = aperture_photometry(data, aperture, method='center')\n",
    "phot"
   ]
  },
  {
   "cell_type": "markdown",
   "metadata": {},
   "source": [
    "Aperture photometry using the 'subpixel' method with `subpixels=5`:\n",
    "\n",
    "This is equivalent to SExtractor aperture photometry."
   ]
  },
  {
   "cell_type": "code",
   "execution_count": null,
   "metadata": {
    "collapsed": false,
    "slideshow": {
     "slide_type": "fragment"
    }
   },
   "outputs": [],
   "source": [
    "phot = aperture_photometry(data, aperture, method='subpixel', subpixels=5)\n",
    "phot"
   ]
  },
  {
   "cell_type": "markdown",
   "metadata": {},
   "source": [
    "We can input an error array to get the photometric errors."
   ]
  },
  {
   "cell_type": "code",
   "execution_count": null,
   "metadata": {
    "collapsed": false,
    "scrolled": true
   },
   "outputs": [],
   "source": [
    "phot = aperture_photometry(data, aperture, error=error)\n",
    "phot"
   ]
  },
  {
   "cell_type": "markdown",
   "metadata": {},
   "source": [
    "The error array in the FITS file represents only the background error.  If we want to include\n",
    "the Poisson error of the source we need to calculate the **total** error:\n",
    "\n",
    "$\\sigma_{\\mathrm{tot}} = \\sqrt{\\sigma_{\\mathrm{b}}^2 +\n",
    "                  \\frac{I}{g}}$\n",
    "                  \n",
    "where $\\sigma_{\\mathrm{b}}$ is the background-only error,\n",
    "$I$ are the data values, and $g$ is the \"effective gain\".\n",
    "\n",
    "The \"effective gain\" is the value (or image) needed to convert the data image to count units (e.g. electrons or photons), where Poisson statistics apply."
   ]
  },
  {
   "cell_type": "code",
   "execution_count": null,
   "metadata": {
    "collapsed": false
   },
   "outputs": [],
   "source": [
    "# this time include the Poisson error of the source\n",
    "from photutils.utils import calc_total_error\n",
    "\n",
    "eff_gain = hdr['TEXPTIME']\n",
    "tot_error = calc_total_error(data, error, eff_gain)\n",
    "\n",
    "phot = aperture_photometry(data, aperture, error=tot_error)\n",
    "phot"
   ]
  },
  {
   "cell_type": "markdown",
   "metadata": {},
   "source": [
    "We can also input the data (and error) units via the `unit` keyword."
   ]
  },
  {
   "cell_type": "code",
   "execution_count": null,
   "metadata": {
    "collapsed": false,
    "slideshow": {
     "slide_type": "fragment"
    }
   },
   "outputs": [],
   "source": [
    "# input the data units\n",
    "import astropy.units as u\n",
    "\n",
    "unit = u.electron / u.s\n",
    "phot = aperture_photometry(data, aperture, error=tot_error, unit=unit)\n",
    "phot"
   ]
  },
  {
   "cell_type": "markdown",
   "metadata": {},
   "source": [
    "`Quantity` inputs for data and error are also allowed."
   ]
  },
  {
   "cell_type": "code",
   "execution_count": null,
   "metadata": {
    "collapsed": false
   },
   "outputs": [],
   "source": [
    "phot = aperture_photometry(data * unit, aperture, error=tot_error * u.adu)\n",
    "phot"
   ]
  },
  {
   "cell_type": "markdown",
   "metadata": {},
   "source": [
    "The `unit` will not override the data or error unit."
   ]
  },
  {
   "cell_type": "code",
   "execution_count": null,
   "metadata": {
    "collapsed": false
   },
   "outputs": [],
   "source": [
    "phot = aperture_photometry(data * unit, aperture, error=tot_error * u.adu, unit=u.photon)\n",
    "phot"
   ]
  },
  {
   "cell_type": "markdown",
   "metadata": {
    "slideshow": {
     "slide_type": "slide"
    }
   },
   "source": [
    "## Performing aperture photometry at multiple positions"
   ]
  },
  {
   "cell_type": "code",
   "execution_count": null,
   "metadata": {
    "collapsed": false,
    "slideshow": {
     "slide_type": "-"
    }
   },
   "outputs": [],
   "source": [
    "positions = [(90.73, 59.43), (73.63, 139.41), (43.62, 61.63)]\n",
    "radius = 5.\n",
    "apertures = CircularAperture(positions, r=radius)\n",
    "\n",
    "phot = aperture_photometry(data, apertures, error=tot_error, unit=unit)\n",
    "phot"
   ]
  },
  {
   "cell_type": "markdown",
   "metadata": {
    "slideshow": {
     "slide_type": "slide"
    }
   },
   "source": [
    "## Bad pixel masking"
   ]
  },
  {
   "cell_type": "code",
   "execution_count": null,
   "metadata": {
    "collapsed": false
   },
   "outputs": [],
   "source": [
    "# create a bad pixel\n",
    "data2 = data.copy()\n",
    "y, x = 59, 91\n",
    "data2[y, x] = 100.\n",
    "\n",
    "aperture_photometry(data2, apertures, error=tot_error)"
   ]
  },
  {
   "cell_type": "markdown",
   "metadata": {},
   "source": [
    "Now mask the bad pixel so that it does not contribute to the photometry."
   ]
  },
  {
   "cell_type": "code",
   "execution_count": null,
   "metadata": {
    "collapsed": false,
    "slideshow": {
     "slide_type": "fragment"
    }
   },
   "outputs": [],
   "source": [
    "mask = np.zeros_like(data2, dtype=bool)\n",
    "mask[y, x] = True\n",
    "\n",
    "aperture_photometry(data2, apertures, error=tot_error, mask=mask)"
   ]
  },
  {
   "cell_type": "markdown",
   "metadata": {
    "slideshow": {
     "slide_type": "slide"
    }
   },
   "source": [
    "## Adding columns to the photometry table"
   ]
  },
  {
   "cell_type": "markdown",
   "metadata": {},
   "source": [
    "Calculate the signal-to-noise (SNR) ratio and add it to the table."
   ]
  },
  {
   "cell_type": "code",
   "execution_count": null,
   "metadata": {
    "collapsed": false,
    "slideshow": {
     "slide_type": "fragment"
    }
   },
   "outputs": [],
   "source": [
    "snr = phot['aperture_sum'] / phot['aperture_sum_err']\n",
    "\n",
    "phot['snr'] = snr\n",
    "phot"
   ]
  },
  {
   "cell_type": "markdown",
   "metadata": {},
   "source": [
    "Calculate the F160W AB magnitude and add it to the table."
   ]
  },
  {
   "cell_type": "code",
   "execution_count": null,
   "metadata": {
    "collapsed": false,
    "slideshow": {
     "slide_type": "fragment"
    }
   },
   "outputs": [],
   "source": [
    "f160w_zpt = 25.9463\n",
    "\n",
    "# NOTE that the log10() function can be applied only to dimensionless quantities\n",
    "abmag = -2.5 * np.log10(phot['aperture_sum'].value) + f160w_zpt\n",
    "\n",
    "phot['abmag'] = abmag\n",
    "phot"
   ]
  },
  {
   "cell_type": "markdown",
   "metadata": {},
   "source": [
    "Calculate the ICRS Right Ascension and Declination and add them to the table."
   ]
  },
  {
   "cell_type": "code",
   "execution_count": null,
   "metadata": {
    "collapsed": false,
    "slideshow": {
     "slide_type": "fragment"
    }
   },
   "outputs": [],
   "source": [
    "from astropy.wcs.utils import pixel_to_skycoord\n",
    "\n",
    "# convert pixel positions to sky coordinates\n",
    "x, y = np.transpose(positions)\n",
    "coord = pixel_to_skycoord(x, y, wcs)\n",
    "\n",
    "phot['ra_icrs'] = coord.icrs.ra\n",
    "phot['dec_icrs'] = coord.icrs.dec\n",
    "phot"
   ]
  },
  {
   "cell_type": "markdown",
   "metadata": {},
   "source": [
    "Example:  write the table to an ASCII file in ECSV format:"
   ]
  },
  {
   "cell_type": "code",
   "execution_count": null,
   "metadata": {
    "collapsed": true
   },
   "outputs": [],
   "source": [
    "phot.write('my_photometry.txt', format='ascii.ecsv')"
   ]
  },
  {
   "cell_type": "code",
   "execution_count": null,
   "metadata": {
    "collapsed": false
   },
   "outputs": [],
   "source": [
    "!cat my_photometry.txt"
   ]
  },
  {
   "cell_type": "markdown",
   "metadata": {},
   "source": [
    "Now read the table in from the (ecsv) ASCII file:"
   ]
  },
  {
   "cell_type": "code",
   "execution_count": null,
   "metadata": {
    "collapsed": false
   },
   "outputs": [],
   "source": [
    "from astropy.table import QTable\n",
    "tbl = QTable.read('my_photometry.txt', format='ascii.ecsv')\n",
    "tbl"
   ]
  },
  {
   "cell_type": "code",
   "execution_count": null,
   "metadata": {
    "collapsed": false
   },
   "outputs": [],
   "source": [
    "tbl.meta"
   ]
  },
  {
   "cell_type": "code",
   "execution_count": null,
   "metadata": {
    "collapsed": false
   },
   "outputs": [],
   "source": [
    "tbl['aperture_sum']"
   ]
  },
  {
   "cell_type": "markdown",
   "metadata": {},
   "source": [
    "## Performing aperture photometry at multiple positions using multiple apertures"
   ]
  },
  {
   "cell_type": "markdown",
   "metadata": {},
   "source": [
    "First define three different aperture shapes (different radii), but with the same positions."
   ]
  },
  {
   "cell_type": "code",
   "execution_count": null,
   "metadata": {
    "collapsed": true
   },
   "outputs": [],
   "source": [
    "positions = [(90.73, 59.43), (73.63, 139.41), (43.62, 61.63)]\n",
    "radii = [5., 7.5, 9., 11.]\n",
    "apertures = [CircularAperture(positions, r=r) for r in radii]"
   ]
  },
  {
   "cell_type": "code",
   "execution_count": null,
   "metadata": {
    "collapsed": false
   },
   "outputs": [],
   "source": [
    "phot = aperture_photometry(data, apertures, error=tot_error, unit=unit)\n",
    "phot"
   ]
  },
  {
   "cell_type": "markdown",
   "metadata": {},
   "source": [
    "We can add columns to the table indicating the aperture radii."
   ]
  },
  {
   "cell_type": "code",
   "execution_count": null,
   "metadata": {
    "collapsed": false
   },
   "outputs": [],
   "source": [
    "phot['aperture_radius_0'] = np.ones(len(phot)) * radii[0] * u.pix\n",
    "phot['aperture_radius_1'] = np.ones(len(phot)) * radii[1] * u.pix\n",
    "phot['aperture_radius_2'] = np.ones(len(phot)) * radii[2] * u.pix\n",
    "phot['aperture_radius_3'] = np.ones(len(phot)) * radii[3] * u.pix\n",
    "phot"
   ]
  },
  {
   "cell_type": "markdown",
   "metadata": {},
   "source": [
    "or put them in the table metadata."
   ]
  },
  {
   "cell_type": "code",
   "execution_count": null,
   "metadata": {
    "collapsed": false
   },
   "outputs": [],
   "source": [
    "for i in range(len(radii)):\n",
    "    phot.meta['aperture_{}'.format(i)] = 'Circular aperture with r={} pix'.format(radii[i])"
   ]
  },
  {
   "cell_type": "code",
   "execution_count": null,
   "metadata": {
    "collapsed": false
   },
   "outputs": [],
   "source": [
    "phot.meta"
   ]
  },
  {
   "cell_type": "markdown",
   "metadata": {
    "slideshow": {
     "slide_type": "slide"
    }
   },
   "source": [
    "## Aperture photometry using Sky apertures"
   ]
  },
  {
   "cell_type": "markdown",
   "metadata": {},
   "source": [
    "First, let's define the sky coordinates by converting our pixel coordinates."
   ]
  },
  {
   "cell_type": "code",
   "execution_count": null,
   "metadata": {
    "collapsed": false
   },
   "outputs": [],
   "source": [
    "positions = [(90.73, 59.43), (73.63, 139.41), (43.62, 61.63)]\n",
    "x, y = np.transpose(positions)\n",
    "coord = pixel_to_skycoord(x, y, wcs)\n",
    "coord"
   ]
  },
  {
   "cell_type": "markdown",
   "metadata": {},
   "source": [
    "Now define a circular aperture in sky coordinates.\n",
    "\n",
    "For sky apertures in angular units, the aperture radius must be a `Quantity`, in either pixel or angular units."
   ]
  },
  {
   "cell_type": "code",
   "execution_count": null,
   "metadata": {
    "collapsed": false,
    "slideshow": {
     "slide_type": "fragment"
    }
   },
   "outputs": [],
   "source": [
    "from photutils import SkyCircularAperture\n",
    "\n",
    "radius = 5. * u.pix\n",
    "sky_apers = SkyCircularAperture(coord, r=radius)\n",
    "sky_apers.r"
   ]
  },
  {
   "cell_type": "code",
   "execution_count": null,
   "metadata": {
    "collapsed": false
   },
   "outputs": [],
   "source": [
    "radius = 0.5 * u.arcsec\n",
    "sky_apers = SkyCircularAperture(coord, r=radius)\n",
    "sky_apers.r"
   ]
  },
  {
   "cell_type": "markdown",
   "metadata": {},
   "source": [
    "When using a sky aperture, `aperture_photometry` needs the WCS transformation."
   ]
  },
  {
   "cell_type": "code",
   "execution_count": null,
   "metadata": {
    "collapsed": false,
    "slideshow": {
     "slide_type": "fragment"
    }
   },
   "outputs": [],
   "source": [
    "# via the wcs keyword\n",
    "phot = aperture_photometry(data, sky_apers, wcs=wcs)\n",
    "phot"
   ]
  },
  {
   "cell_type": "code",
   "execution_count": null,
   "metadata": {
    "collapsed": false,
    "scrolled": true,
    "slideshow": {
     "slide_type": "fragment"
    }
   },
   "outputs": [],
   "source": [
    "# or via a FITS hdu (i.e. header and data)\n",
    "phot = aperture_photometry(sci_hdulist[0], sky_apers)\n",
    "phot"
   ]
  },
  {
   "cell_type": "markdown",
   "metadata": {
    "slideshow": {
     "slide_type": "slide"
    }
   },
   "source": [
    "## Encircled flux"
   ]
  },
  {
   "cell_type": "markdown",
   "metadata": {},
   "source": [
    "Here we want to perform aperture photometry at a single position with *many* apertures.\n",
    "\n",
    "Instead of generating a big table, we'll simply loop over the apertures and extract the fluxes from individual tables."
   ]
  },
  {
   "cell_type": "code",
   "execution_count": null,
   "metadata": {
    "collapsed": true
   },
   "outputs": [],
   "source": [
    "radii = np.linspace(0.1, 20, 100)   # 100 apertures\n",
    "flux = []\n",
    "for r in radii:\n",
    "    ap = CircularAperture(positions[1], r=r)  # single position\n",
    "    phot = aperture_photometry(data, ap)\n",
    "    flux.append(phot['aperture_sum'][0])"
   ]
  },
  {
   "cell_type": "code",
   "execution_count": null,
   "metadata": {
    "collapsed": false,
    "slideshow": {
     "slide_type": "fragment"
    }
   },
   "outputs": [],
   "source": [
    "plt.plot(radii, flux)\n",
    "plt.title('Encircled Flux')\n",
    "plt.xlabel('Radius (pixels)')\n",
    "plt.ylabel('Aperture Sum ($e^{-1}/s$)')"
   ]
  },
  {
   "cell_type": "markdown",
   "metadata": {
    "collapsed": true,
    "slideshow": {
     "slide_type": "slide"
    }
   },
   "source": [
    "## Local background estimation"
   ]
  },
  {
   "cell_type": "markdown",
   "metadata": {},
   "source": [
    "First, let's create circular and circular-annulus apertures at the same positions."
   ]
  },
  {
   "cell_type": "code",
   "execution_count": null,
   "metadata": {
    "collapsed": false
   },
   "outputs": [],
   "source": [
    "from photutils import CircularAnnulus\n",
    "\n",
    "positions = [(90.73, 59.43), (73.63, 139.41), (43.62, 61.63)]\n",
    "\n",
    "aper = CircularAperture(positions, r=3)\n",
    "bkg_aper = CircularAnnulus(positions, r_in=10., r_out=15.)\n",
    "apers = [aper, bkg_aper]"
   ]
  },
  {
   "cell_type": "markdown",
   "metadata": {},
   "source": [
    "Now, perform the photometry."
   ]
  },
  {
   "cell_type": "code",
   "execution_count": null,
   "metadata": {
    "collapsed": false
   },
   "outputs": [],
   "source": [
    "phot = aperture_photometry(data, apers)\n",
    "phot.rename_column('aperture_sum_0', 'aperture_sum')\n",
    "phot.rename_column('aperture_sum_1', 'annulus_sum')\n",
    "phot\n",
    "\n",
    "# Caveat:  Quantity columns cannot be renamed"
   ]
  },
  {
   "cell_type": "markdown",
   "metadata": {},
   "source": [
    "Note that the fluxes cannot be simply subtracted because the aperture areas are different.\n",
    "\n",
    "First, calculate the mean background level (per pixel) in the annuli."
   ]
  },
  {
   "cell_type": "code",
   "execution_count": null,
   "metadata": {
    "collapsed": false
   },
   "outputs": [],
   "source": [
    "phot['annulus_mean'] = phot['annulus_sum'] / bkg_aper.area()\n",
    "phot"
   ]
  },
  {
   "cell_type": "markdown",
   "metadata": {},
   "source": [
    "Then mulitply it by the circular aperture area."
   ]
  },
  {
   "cell_type": "code",
   "execution_count": null,
   "metadata": {
    "collapsed": false
   },
   "outputs": [],
   "source": [
    "phot['aperture_bkg'] = phot['annulus_mean'] * aper.area()\n",
    "phot"
   ]
  },
  {
   "cell_type": "markdown",
   "metadata": {},
   "source": [
    "Now subtract the background."
   ]
  },
  {
   "cell_type": "code",
   "execution_count": null,
   "metadata": {
    "collapsed": false
   },
   "outputs": [],
   "source": [
    " # subtract the background\n",
    "flux_bkgsub = phot['aperture_sum'] - phot['aperture_bkg']\n",
    "\n",
    "phot['aperture_sum_bkgsub'] = flux_bkgsub\n",
    "phot"
   ]
  },
  {
   "cell_type": "markdown",
   "metadata": {},
   "source": [
    "## Apertures can plot themselves"
   ]
  },
  {
   "cell_type": "code",
   "execution_count": null,
   "metadata": {
    "collapsed": false,
    "scrolled": true,
    "slideshow": {
     "slide_type": "fragment"
    }
   },
   "outputs": [],
   "source": [
    "plt.imshow(scale_image(data, scale='sqrt', percent=98.))\n",
    "\n",
    "aper.plot(color='white', lw=2)\n",
    "bkg_aper.plot(color='white', lw=2, hatch='//', alpha=0.5)"
   ]
  },
  {
   "cell_type": "markdown",
   "metadata": {},
   "source": [
    "## More about apertures:  Advanced usage"
   ]
  },
  {
   "cell_type": "markdown",
   "metadata": {},
   "source": [
    "### Aperture masks"
   ]
  },
  {
   "cell_type": "code",
   "execution_count": null,
   "metadata": {
    "collapsed": true
   },
   "outputs": [],
   "source": [
    "positions = [(90.73, 59.43), (73.63, 139.41), (43.62, 61.63)]\n",
    "radius = 5.\n",
    "apertures = CircularAperture(positions, r=radius)"
   ]
  },
  {
   "cell_type": "markdown",
   "metadata": {},
   "source": [
    "Create a list of `ApertureMask` objects using the `to_mask()` method."
   ]
  },
  {
   "cell_type": "code",
   "execution_count": null,
   "metadata": {
    "collapsed": true
   },
   "outputs": [],
   "source": [
    "masks = apertures.to_mask(method='exact')"
   ]
  },
  {
   "cell_type": "markdown",
   "metadata": {},
   "source": [
    "Let's plot the first one."
   ]
  },
  {
   "cell_type": "code",
   "execution_count": null,
   "metadata": {
    "collapsed": false
   },
   "outputs": [],
   "source": [
    "mask = masks[0]   # the first one\n",
    "plt.imshow(mask)\n",
    "plt.colorbar()"
   ]
  },
  {
   "cell_type": "markdown",
   "metadata": {},
   "source": [
    "The above image is a cutout of the aperture mask.\n",
    "\n",
    "We can create an image with the aperture mask at its position."
   ]
  },
  {
   "cell_type": "code",
   "execution_count": null,
   "metadata": {
    "collapsed": false
   },
   "outputs": [],
   "source": [
    "img = mask.to_image(shape=((200, 200)))\n",
    "plt.imshow(img)\n",
    "plt.colorbar()"
   ]
  },
  {
   "cell_type": "markdown",
   "metadata": {},
   "source": [
    "We can also create a cutout from a data image over the mask domain."
   ]
  },
  {
   "cell_type": "code",
   "execution_count": null,
   "metadata": {
    "collapsed": false
   },
   "outputs": [],
   "source": [
    "data_cutout = mask.cutout(data)\n",
    "plt.imshow(data_cutout)\n",
    "plt.colorbar()"
   ]
  },
  {
   "cell_type": "markdown",
   "metadata": {},
   "source": [
    "We can also create a mask-weighted cutout from the data.  Here the circular aperture mask has been applied to the data."
   ]
  },
  {
   "cell_type": "code",
   "execution_count": null,
   "metadata": {
    "collapsed": false
   },
   "outputs": [],
   "source": [
    "data_cutout_aper = mask.apply(data)\n",
    "plt.imshow(data_cutout_aper)\n",
    "plt.colorbar()"
   ]
  },
  {
   "cell_type": "markdown",
   "metadata": {
    "slideshow": {
     "slide_type": "slide"
    }
   },
   "source": [
    "## Part 2:  Image Segmentation"
   ]
  },
  {
   "cell_type": "markdown",
   "metadata": {},
   "source": [
    "Image segmentation is the process where sources are identified and labeled in an image.\n",
    "\n",
    "The sources are detected using a S/N threshold level and defining a minimum number of pixels required within a source.\n",
    "\n",
    "First, let's define a threshold image at 2$\\sigma$ (per pixel) above the background."
   ]
  },
  {
   "cell_type": "code",
   "execution_count": null,
   "metadata": {
    "collapsed": false
   },
   "outputs": [],
   "source": [
    "bkg = 0.  # background level in this image\n",
    "nsigma = 2.\n",
    "threshold = bkg + (nsigma * error)  # this should be background-only error"
   ]
  },
  {
   "cell_type": "markdown",
   "metadata": {},
   "source": [
    "Now let's detect \"8-connected\" sources of size 5 pixels where each pixel is 2$\\sigma$ above the background.\n",
    "\n",
    "The result is a segmentation image (`SegmentationImage` object).  The segmentation image is the isophotal footprint of each source above the threshold."
   ]
  },
  {
   "cell_type": "code",
   "execution_count": null,
   "metadata": {
    "collapsed": false,
    "slideshow": {
     "slide_type": "fragment"
    }
   },
   "outputs": [],
   "source": [
    "from photutils import detect_sources\n",
    "\n",
    "npixels = 5\n",
    "segm = detect_sources(data, threshold, npixels)\n",
    "\n",
    "print('Found {0} sources'.format(segm.nlabels))"
   ]
  },
  {
   "cell_type": "markdown",
   "metadata": {},
   "source": [
    "Display the segmentation image."
   ]
  },
  {
   "cell_type": "code",
   "execution_count": null,
   "metadata": {
    "collapsed": false
   },
   "outputs": [],
   "source": [
    "from photutils.utils import random_cmap\n",
    "\n",
    "rand_cmap = random_cmap(random_state=12345)\n",
    "\n",
    "fig, (ax1, ax2) = plt.subplots(1, 2, figsize=(10, 8))\n",
    "ax1.imshow(scale_image(data, scale='sqrt', percent=99.5))\n",
    "ax1.set_title('Data')\n",
    "ax2.imshow(segm, cmap=rand_cmap)\n",
    "ax2.set_title('Segmentation Image')"
   ]
  },
  {
   "cell_type": "markdown",
   "metadata": {
    "slideshow": {
     "slide_type": "slide"
    }
   },
   "source": [
    "We should filter (smooth) the data prior to source detection.\n",
    "\n",
    "Let's use a 5x5 Gaussian kernel with a FWHM of 2 pixels."
   ]
  },
  {
   "cell_type": "code",
   "execution_count": null,
   "metadata": {
    "collapsed": false
   },
   "outputs": [],
   "source": [
    "from astropy.convolution import Gaussian2DKernel\n",
    "from astropy.stats import gaussian_fwhm_to_sigma\n",
    "\n",
    "sigma = 2.0 * gaussian_fwhm_to_sigma    # FWHM = 2 pixels\n",
    "kernel = Gaussian2DKernel(sigma, x_size=5, y_size=5)\n",
    "kernel.normalize()\n",
    "\n",
    "segm = detect_sources(data, threshold, npixels, filter_kernel=kernel)"
   ]
  },
  {
   "cell_type": "markdown",
   "metadata": {},
   "source": [
    "### Source deblending"
   ]
  },
  {
   "cell_type": "markdown",
   "metadata": {
    "slideshow": {
     "slide_type": "fragment"
    }
   },
   "source": [
    "Note above that some of our detected sources were blended.  We deblend them using the `deblend_sources()` function, which uses a combination of multi-thresholding and watershed segmentation."
   ]
  },
  {
   "cell_type": "code",
   "execution_count": null,
   "metadata": {
    "collapsed": false
   },
   "outputs": [],
   "source": [
    "from photutils import deblend_sources\n",
    "\n",
    "segm2 = deblend_sources(data, segm, npixels, filter_kernel=kernel,\n",
    "                        contrast=0.001, nlevels=32)\n",
    "\n",
    "fig, (ax1, ax2) = plt.subplots(1, 2, figsize=(10, 8))\n",
    "ax1.imshow(scale_image(data, scale='sqrt', percent=99.5))\n",
    "ax1.set_title('Data')\n",
    "ax2.imshow(segm2, cmap=rand_cmap)\n",
    "ax2.set_title('Segmentation Image')\n",
    "\n",
    "print('Found {0} sources'.format(segm2.max))"
   ]
  },
  {
   "cell_type": "markdown",
   "metadata": {
    "slideshow": {
     "slide_type": "slide"
    }
   },
   "source": [
    "## Measure the photometry and morphological properties of detected sources"
   ]
  },
  {
   "cell_type": "code",
   "execution_count": null,
   "metadata": {
    "collapsed": true
   },
   "outputs": [],
   "source": [
    "from photutils import source_properties, properties_table\n",
    "\n",
    "props = source_properties(data, segm2.data, error=error, wcs=wcs)"
   ]
  },
  {
   "cell_type": "markdown",
   "metadata": {
    "slideshow": {
     "slide_type": "fragment"
    }
   },
   "source": [
    "`props` is a list of `SourceProperties` objects.\n",
    "\n",
    "We can create a Table of isophotal photometry and morphological properties using the ``properties_table()`` function:"
   ]
  },
  {
   "cell_type": "code",
   "execution_count": null,
   "metadata": {
    "collapsed": false,
    "scrolled": true
   },
   "outputs": [],
   "source": [
    "tbl = properties_table(props)\n",
    "tbl"
   ]
  },
  {
   "cell_type": "markdown",
   "metadata": {},
   "source": [
    "A subset of source can be specified, defined by the their labels in the segmentation image."
   ]
  },
  {
   "cell_type": "code",
   "execution_count": null,
   "metadata": {
    "collapsed": false,
    "slideshow": {
     "slide_type": "fragment"
    }
   },
   "outputs": [],
   "source": [
    "labels = [1, 5, 7, 12]\n",
    "props2 = source_properties(data, segm.data, error=error, wcs=wcs, labels=labels)\n",
    "tbl = properties_table(props2)\n",
    "tbl"
   ]
  },
  {
   "cell_type": "markdown",
   "metadata": {},
   "source": [
    "A subset of property columns can also be specified."
   ]
  },
  {
   "cell_type": "code",
   "execution_count": null,
   "metadata": {
    "collapsed": false,
    "slideshow": {
     "slide_type": "fragment"
    }
   },
   "outputs": [],
   "source": [
    "columns = ['id', 'xcentroid', 'ycentroid', 'source_sum', 'area']\n",
    "tbl2 = properties_table(props2, columns=columns)\n",
    "tbl2"
   ]
  },
  {
   "cell_type": "markdown",
   "metadata": {},
   "source": [
    "Some additional source properties, e.g. image cutouts, can be accessed directly via the `SourceProperties` objects."
   ]
  },
  {
   "cell_type": "code",
   "execution_count": null,
   "metadata": {
    "collapsed": false
   },
   "outputs": [],
   "source": [
    "# get a single object (id=12)\n",
    "obj = props[11]\n",
    "obj.id"
   ]
  },
  {
   "cell_type": "code",
   "execution_count": null,
   "metadata": {
    "collapsed": false,
    "slideshow": {
     "slide_type": "fragment"
    }
   },
   "outputs": [],
   "source": [
    "# plot its cutout data and error images\n",
    "fig, ax = plt.subplots(figsize=(6, 4), ncols=2)\n",
    "ax[0].imshow(obj.data_cutout_ma)\n",
    "ax[1].imshow(obj.error_cutout_ma)"
   ]
  },
  {
   "cell_type": "markdown",
   "metadata": {},
   "source": [
    "Please see the complete list of available [source properties](http://photutils.readthedocs.org/en/latest/api/photutils.segmentation.SourceProperties.html#photutils.segmentation.SourceProperties)."
   ]
  },
  {
   "cell_type": "markdown",
   "metadata": {
    "slideshow": {
     "slide_type": "slide"
    }
   },
   "source": [
    "## Define the approximate isophotal ellipses for each object"
   ]
  },
  {
   "cell_type": "markdown",
   "metadata": {},
   "source": [
    "Create elliptical apertures for each object using the measured morphological parameters."
   ]
  },
  {
   "cell_type": "code",
   "execution_count": null,
   "metadata": {
    "collapsed": true,
    "slideshow": {
     "slide_type": "-"
    }
   },
   "outputs": [],
   "source": [
    "from photutils import EllipticalAperture\n",
    "\n",
    "r = 3.    # approximate isophotal extent\n",
    "apertures = []\n",
    "for prop in props:\n",
    "    position = (prop.xcentroid.value, prop.ycentroid.value)\n",
    "    a = prop.semimajor_axis_sigma.value * r\n",
    "    b = prop.semiminor_axis_sigma.value * r\n",
    "    theta = prop.orientation.value\n",
    "    apertures.append(EllipticalAperture(position, a, b, theta=theta))"
   ]
  },
  {
   "cell_type": "markdown",
   "metadata": {},
   "source": [
    "Now plot the elliptical apertures on the data and segmentation image."
   ]
  },
  {
   "cell_type": "code",
   "execution_count": null,
   "metadata": {
    "collapsed": false,
    "slideshow": {
     "slide_type": "fragment"
    }
   },
   "outputs": [],
   "source": [
    "fig, (ax1, ax2) = plt.subplots(1, 2, figsize=(8, 8))\n",
    "ax1.imshow(scale_image(data, scale='sqrt', percent=98.))\n",
    "ax2.imshow(segm2, cmap=rand_cmap)\n",
    "for aperture in apertures:\n",
    "    aperture.plot(color='white', lw=1.5, alpha=0.5, ax=ax1)\n",
    "    aperture.plot(color='white', lw=1.5, alpha=1.0, ax=ax2)"
   ]
  },
  {
   "cell_type": "markdown",
   "metadata": {
    "slideshow": {
     "slide_type": "slide"
    }
   },
   "source": [
    "### The segmentation image can be reused on other registered data (e.g. multiple filters) to generate a multiband catalog."
   ]
  },
  {
   "cell_type": "markdown",
   "metadata": {
    "slideshow": {
     "slide_type": "slide"
    }
   },
   "source": [
    "### The segmentation image can be modified before measuring source photometry/properties, e.g.:\n",
    "\n",
    " - remove source segments (artifacts, diffraction spikes, etc.)\n",
    " - combine segments\n",
    " - mask regions of a segmentation image (e.g. near image borders)\n",
    "\n",
    "See [modifying segmentation images](http://photutils.readthedocs.io/en/latest/photutils/segmentation.html#modifying-a-segmentation-image) for further information.\n",
    " \n",
    "### A SExtractor segmentation image can be input to `source_properties()`.\n",
    "\n",
    "To generate a SExtractor segmentation image, set:\n",
    "```\n",
    "CHECKIMAGE_TYPE   SEGMENTATION\n",
    "CHECKIMAGE_NAME   segmentation.fits\n",
    "```\n"
   ]
  },
  {
   "cell_type": "code",
   "execution_count": null,
   "metadata": {
    "collapsed": false
   },
   "outputs": [],
   "source": []
  }
 ],
 "metadata": {
  "anaconda-cloud": {},
  "kernelspec": {
   "display_name": "Python [default]",
   "language": "python",
   "name": "python3"
  },
  "language_info": {
   "codemirror_mode": {
    "name": "ipython",
    "version": 3
   },
   "file_extension": ".py",
   "mimetype": "text/x-python",
   "name": "python",
   "nbconvert_exporter": "python",
   "pygments_lexer": "ipython3",
   "version": "3.5.2"
  }
 },
 "nbformat": 4,
 "nbformat_minor": 0
}
